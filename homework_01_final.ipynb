{
  "cells": [
    {
      "cell_type": "markdown",
      "metadata": {
        "id": "Q_upCOEI3Upu"
      },
      "source": [
        "# Основы глубинного обучения, майнор ИАД\n",
        "\n",
        "## Домашнее задание 1. Введение в PyTorch. Полносвязные нейронные сети.\n",
        "\n",
        "### Общая информация\n",
        "\n",
        "Дата выдачи: 20.09.2022\n",
        "\n",
        "Мягкий дедлайн: 23:59MSK 04.10.2022\n",
        "\n",
        "Жесткий дедлайн: 23:59MSK 10.10.2022\n",
        "\n",
        "### Оценивание и штрафы\n",
        "Максимально допустимая оценка за работу — 10 баллов. За каждый день просрочки снимается 1 балл. Сдавать задание после жёсткого дедлайна сдачи нельзя.\n",
        "\n",
        "Задание выполняется самостоятельно. «Похожие» решения считаются плагиатом и все задействованные студенты (в том числе те, у кого списали) не могут получить за него больше 0 баллов. Если вы нашли решение какого-то из заданий (или его часть) в открытом источнике, необходимо указать ссылку на этот источник в отдельном блоке в конце вашей работы (скорее всего вы будете не единственным, кто это нашел, поэтому чтобы исключить подозрение в плагиате, необходима ссылка на источник).\n",
        "\n",
        "Неэффективная реализация кода может негативно отразиться на оценке.\n",
        "Также оценка может быть снижена за плохо читаемый код и плохо оформленные графики. Все ответы должны сопровождаться кодом или комментариями о том, как они были получены.\n",
        "\n",
        "### О задании\n",
        "\n",
        "В этом задании вам предстоит предсказывать год выпуска песни (**задача регрессии**) по некоторым звуковым признакам: [данные](https://archive.ics.uci.edu/ml/datasets/yearpredictionmsd). В ячейках ниже находится код для загрузки данных. Обратите внимание, что обучающая и тестовая выборки располагаются в одном файле, поэтому НЕ меняйте ячейку, в которой производится деление данных."
      ]
    },
    {
      "cell_type": "code",
      "execution_count": 2,
      "metadata": {
        "id": "RI_eoe063VaP"
      },
      "outputs": [],
      "source": [
        "import torch\n",
        "from torch import nn\n",
        "import pandas as pd\n",
        "import numpy as np\n",
        "import random\n",
        "# my imports\n",
        "from tqdm import tqdm\n",
        "import warnings\n",
        "\n",
        "import matplotlib.pyplot as plt #for \n",
        "import pylab # as if we have diffrant scale of train test, have to bild diffrent graphs\n",
        "\n",
        "import IPython.display as disp # for intaractive changing graphs\n",
        "\n",
        "import warnings # turn off warnings\n",
        "warnings.filterwarnings(\"ignore\")"
      ]
    },
    {
      "cell_type": "code",
      "execution_count": 3,
      "metadata": {
        "id": "El1FrhU_vJNr"
      },
      "outputs": [],
      "source": [
        "# %conda install wget"
      ]
    },
    {
      "cell_type": "code",
      "execution_count": 4,
      "metadata": {
        "id": "7NgSZeU-7vgj",
        "colab": {
          "base_uri": "https://localhost:8080/"
        },
        "outputId": "f3faf24e-00bd-4125-e029-c802031cbc4d"
      },
      "outputs": [
        {
          "output_type": "stream",
          "name": "stdout",
          "text": [
            "--2022-10-05 06:35:30--  https://archive.ics.uci.edu/ml/machine-learning-databases/00203/YearPredictionMSD.txt.zip\n",
            "Resolving archive.ics.uci.edu (archive.ics.uci.edu)... 128.195.10.252\n",
            "Connecting to archive.ics.uci.edu (archive.ics.uci.edu)|128.195.10.252|:443... connected.\n",
            "HTTP request sent, awaiting response... 200 OK\n",
            "Length: 211011981 (201M) [application/x-httpd-php]\n",
            "Saving to: ‘data.txt.zip’\n",
            "\n",
            "data.txt.zip        100%[===================>] 201.24M  58.6MB/s    in 3.8s    \n",
            "\n",
            "2022-10-05 06:35:34 (53.4 MB/s) - ‘data.txt.zip’ saved [211011981/211011981]\n",
            "\n"
          ]
        }
      ],
      "source": [
        "!wget -O data.txt.zip https://archive.ics.uci.edu/ml/machine-learning-databases/00203/YearPredictionMSD.txt.zip"
      ]
    },
    {
      "cell_type": "code",
      "execution_count": 5,
      "metadata": {
        "id": "DSVJZzkJ7zZE",
        "colab": {
          "base_uri": "https://localhost:8080/",
          "height": 300
        },
        "outputId": "3fc1f049-c510-439c-a1ea-4a4c4c6ba8f8"
      },
      "outputs": [
        {
          "output_type": "execute_result",
          "data": {
            "text/plain": [
              "     0         1         2         3         4         5         6         7   \\\n",
              "0  2001  49.94357  21.47114  73.07750   8.74861 -17.40628 -13.09905 -25.01202   \n",
              "1  2001  48.73215  18.42930  70.32679  12.94636 -10.32437 -24.83777   8.76630   \n",
              "2  2001  50.95714  31.85602  55.81851  13.41693  -6.57898 -18.54940  -3.27872   \n",
              "3  2001  48.24750  -1.89837  36.29772   2.58776   0.97170 -26.21683   5.05097   \n",
              "4  2001  50.97020  42.20998  67.09964   8.46791 -15.85279 -16.81409 -12.48207   \n",
              "\n",
              "         8         9   ...        81         82        83        84        85  \\\n",
              "0 -12.23257   7.83089  ...  13.01620  -54.40548  58.99367  15.37344   1.11144   \n",
              "1  -0.92019  18.76548  ...   5.66812  -19.68073  33.04964  42.87836  -9.90378   \n",
              "2  -2.35035  16.07017  ...   3.03800   26.05866 -50.92779  10.93792  -0.07568   \n",
              "3 -10.34124   3.55005  ...  34.57337 -171.70734 -16.96705 -46.67617 -12.51516   \n",
              "4  -9.37636  12.63699  ...   9.92661  -55.95724  64.92712 -17.72522  -1.49237   \n",
              "\n",
              "         86         87        88         89        90  \n",
              "0 -23.08793   68.40795  -1.82223  -27.46348   2.26327  \n",
              "1 -32.22788   70.49388  12.04941   58.43453  26.92061  \n",
              "2  43.20130 -115.00698  -0.05859   39.67068  -0.66345  \n",
              "3  82.58061  -72.08993   9.90558  199.62971  18.85382  \n",
              "4  -7.50035   51.76631   7.88713   55.66926  28.74903  \n",
              "\n",
              "[5 rows x 91 columns]"
            ],
            "text/html": [
              "\n",
              "  <div id=\"df-e8332ead-1989-4cd0-80c8-000e88db55f5\">\n",
              "    <div class=\"colab-df-container\">\n",
              "      <div>\n",
              "<style scoped>\n",
              "    .dataframe tbody tr th:only-of-type {\n",
              "        vertical-align: middle;\n",
              "    }\n",
              "\n",
              "    .dataframe tbody tr th {\n",
              "        vertical-align: top;\n",
              "    }\n",
              "\n",
              "    .dataframe thead th {\n",
              "        text-align: right;\n",
              "    }\n",
              "</style>\n",
              "<table border=\"1\" class=\"dataframe\">\n",
              "  <thead>\n",
              "    <tr style=\"text-align: right;\">\n",
              "      <th></th>\n",
              "      <th>0</th>\n",
              "      <th>1</th>\n",
              "      <th>2</th>\n",
              "      <th>3</th>\n",
              "      <th>4</th>\n",
              "      <th>5</th>\n",
              "      <th>6</th>\n",
              "      <th>7</th>\n",
              "      <th>8</th>\n",
              "      <th>9</th>\n",
              "      <th>...</th>\n",
              "      <th>81</th>\n",
              "      <th>82</th>\n",
              "      <th>83</th>\n",
              "      <th>84</th>\n",
              "      <th>85</th>\n",
              "      <th>86</th>\n",
              "      <th>87</th>\n",
              "      <th>88</th>\n",
              "      <th>89</th>\n",
              "      <th>90</th>\n",
              "    </tr>\n",
              "  </thead>\n",
              "  <tbody>\n",
              "    <tr>\n",
              "      <th>0</th>\n",
              "      <td>2001</td>\n",
              "      <td>49.94357</td>\n",
              "      <td>21.47114</td>\n",
              "      <td>73.07750</td>\n",
              "      <td>8.74861</td>\n",
              "      <td>-17.40628</td>\n",
              "      <td>-13.09905</td>\n",
              "      <td>-25.01202</td>\n",
              "      <td>-12.23257</td>\n",
              "      <td>7.83089</td>\n",
              "      <td>...</td>\n",
              "      <td>13.01620</td>\n",
              "      <td>-54.40548</td>\n",
              "      <td>58.99367</td>\n",
              "      <td>15.37344</td>\n",
              "      <td>1.11144</td>\n",
              "      <td>-23.08793</td>\n",
              "      <td>68.40795</td>\n",
              "      <td>-1.82223</td>\n",
              "      <td>-27.46348</td>\n",
              "      <td>2.26327</td>\n",
              "    </tr>\n",
              "    <tr>\n",
              "      <th>1</th>\n",
              "      <td>2001</td>\n",
              "      <td>48.73215</td>\n",
              "      <td>18.42930</td>\n",
              "      <td>70.32679</td>\n",
              "      <td>12.94636</td>\n",
              "      <td>-10.32437</td>\n",
              "      <td>-24.83777</td>\n",
              "      <td>8.76630</td>\n",
              "      <td>-0.92019</td>\n",
              "      <td>18.76548</td>\n",
              "      <td>...</td>\n",
              "      <td>5.66812</td>\n",
              "      <td>-19.68073</td>\n",
              "      <td>33.04964</td>\n",
              "      <td>42.87836</td>\n",
              "      <td>-9.90378</td>\n",
              "      <td>-32.22788</td>\n",
              "      <td>70.49388</td>\n",
              "      <td>12.04941</td>\n",
              "      <td>58.43453</td>\n",
              "      <td>26.92061</td>\n",
              "    </tr>\n",
              "    <tr>\n",
              "      <th>2</th>\n",
              "      <td>2001</td>\n",
              "      <td>50.95714</td>\n",
              "      <td>31.85602</td>\n",
              "      <td>55.81851</td>\n",
              "      <td>13.41693</td>\n",
              "      <td>-6.57898</td>\n",
              "      <td>-18.54940</td>\n",
              "      <td>-3.27872</td>\n",
              "      <td>-2.35035</td>\n",
              "      <td>16.07017</td>\n",
              "      <td>...</td>\n",
              "      <td>3.03800</td>\n",
              "      <td>26.05866</td>\n",
              "      <td>-50.92779</td>\n",
              "      <td>10.93792</td>\n",
              "      <td>-0.07568</td>\n",
              "      <td>43.20130</td>\n",
              "      <td>-115.00698</td>\n",
              "      <td>-0.05859</td>\n",
              "      <td>39.67068</td>\n",
              "      <td>-0.66345</td>\n",
              "    </tr>\n",
              "    <tr>\n",
              "      <th>3</th>\n",
              "      <td>2001</td>\n",
              "      <td>48.24750</td>\n",
              "      <td>-1.89837</td>\n",
              "      <td>36.29772</td>\n",
              "      <td>2.58776</td>\n",
              "      <td>0.97170</td>\n",
              "      <td>-26.21683</td>\n",
              "      <td>5.05097</td>\n",
              "      <td>-10.34124</td>\n",
              "      <td>3.55005</td>\n",
              "      <td>...</td>\n",
              "      <td>34.57337</td>\n",
              "      <td>-171.70734</td>\n",
              "      <td>-16.96705</td>\n",
              "      <td>-46.67617</td>\n",
              "      <td>-12.51516</td>\n",
              "      <td>82.58061</td>\n",
              "      <td>-72.08993</td>\n",
              "      <td>9.90558</td>\n",
              "      <td>199.62971</td>\n",
              "      <td>18.85382</td>\n",
              "    </tr>\n",
              "    <tr>\n",
              "      <th>4</th>\n",
              "      <td>2001</td>\n",
              "      <td>50.97020</td>\n",
              "      <td>42.20998</td>\n",
              "      <td>67.09964</td>\n",
              "      <td>8.46791</td>\n",
              "      <td>-15.85279</td>\n",
              "      <td>-16.81409</td>\n",
              "      <td>-12.48207</td>\n",
              "      <td>-9.37636</td>\n",
              "      <td>12.63699</td>\n",
              "      <td>...</td>\n",
              "      <td>9.92661</td>\n",
              "      <td>-55.95724</td>\n",
              "      <td>64.92712</td>\n",
              "      <td>-17.72522</td>\n",
              "      <td>-1.49237</td>\n",
              "      <td>-7.50035</td>\n",
              "      <td>51.76631</td>\n",
              "      <td>7.88713</td>\n",
              "      <td>55.66926</td>\n",
              "      <td>28.74903</td>\n",
              "    </tr>\n",
              "  </tbody>\n",
              "</table>\n",
              "<p>5 rows × 91 columns</p>\n",
              "</div>\n",
              "      <button class=\"colab-df-convert\" onclick=\"convertToInteractive('df-e8332ead-1989-4cd0-80c8-000e88db55f5')\"\n",
              "              title=\"Convert this dataframe to an interactive table.\"\n",
              "              style=\"display:none;\">\n",
              "        \n",
              "  <svg xmlns=\"http://www.w3.org/2000/svg\" height=\"24px\"viewBox=\"0 0 24 24\"\n",
              "       width=\"24px\">\n",
              "    <path d=\"M0 0h24v24H0V0z\" fill=\"none\"/>\n",
              "    <path d=\"M18.56 5.44l.94 2.06.94-2.06 2.06-.94-2.06-.94-.94-2.06-.94 2.06-2.06.94zm-11 1L8.5 8.5l.94-2.06 2.06-.94-2.06-.94L8.5 2.5l-.94 2.06-2.06.94zm10 10l.94 2.06.94-2.06 2.06-.94-2.06-.94-.94-2.06-.94 2.06-2.06.94z\"/><path d=\"M17.41 7.96l-1.37-1.37c-.4-.4-.92-.59-1.43-.59-.52 0-1.04.2-1.43.59L10.3 9.45l-7.72 7.72c-.78.78-.78 2.05 0 2.83L4 21.41c.39.39.9.59 1.41.59.51 0 1.02-.2 1.41-.59l7.78-7.78 2.81-2.81c.8-.78.8-2.07 0-2.86zM5.41 20L4 18.59l7.72-7.72 1.47 1.35L5.41 20z\"/>\n",
              "  </svg>\n",
              "      </button>\n",
              "      \n",
              "  <style>\n",
              "    .colab-df-container {\n",
              "      display:flex;\n",
              "      flex-wrap:wrap;\n",
              "      gap: 12px;\n",
              "    }\n",
              "\n",
              "    .colab-df-convert {\n",
              "      background-color: #E8F0FE;\n",
              "      border: none;\n",
              "      border-radius: 50%;\n",
              "      cursor: pointer;\n",
              "      display: none;\n",
              "      fill: #1967D2;\n",
              "      height: 32px;\n",
              "      padding: 0 0 0 0;\n",
              "      width: 32px;\n",
              "    }\n",
              "\n",
              "    .colab-df-convert:hover {\n",
              "      background-color: #E2EBFA;\n",
              "      box-shadow: 0px 1px 2px rgba(60, 64, 67, 0.3), 0px 1px 3px 1px rgba(60, 64, 67, 0.15);\n",
              "      fill: #174EA6;\n",
              "    }\n",
              "\n",
              "    [theme=dark] .colab-df-convert {\n",
              "      background-color: #3B4455;\n",
              "      fill: #D2E3FC;\n",
              "    }\n",
              "\n",
              "    [theme=dark] .colab-df-convert:hover {\n",
              "      background-color: #434B5C;\n",
              "      box-shadow: 0px 1px 3px 1px rgba(0, 0, 0, 0.15);\n",
              "      filter: drop-shadow(0px 1px 2px rgba(0, 0, 0, 0.3));\n",
              "      fill: #FFFFFF;\n",
              "    }\n",
              "  </style>\n",
              "\n",
              "      <script>\n",
              "        const buttonEl =\n",
              "          document.querySelector('#df-e8332ead-1989-4cd0-80c8-000e88db55f5 button.colab-df-convert');\n",
              "        buttonEl.style.display =\n",
              "          google.colab.kernel.accessAllowed ? 'block' : 'none';\n",
              "\n",
              "        async function convertToInteractive(key) {\n",
              "          const element = document.querySelector('#df-e8332ead-1989-4cd0-80c8-000e88db55f5');\n",
              "          const dataTable =\n",
              "            await google.colab.kernel.invokeFunction('convertToInteractive',\n",
              "                                                     [key], {});\n",
              "          if (!dataTable) return;\n",
              "\n",
              "          const docLinkHtml = 'Like what you see? Visit the ' +\n",
              "            '<a target=\"_blank\" href=https://colab.research.google.com/notebooks/data_table.ipynb>data table notebook</a>'\n",
              "            + ' to learn more about interactive tables.';\n",
              "          element.innerHTML = '';\n",
              "          dataTable['output_type'] = 'display_data';\n",
              "          await google.colab.output.renderOutput(dataTable, element);\n",
              "          const docLink = document.createElement('div');\n",
              "          docLink.innerHTML = docLinkHtml;\n",
              "          element.appendChild(docLink);\n",
              "        }\n",
              "      </script>\n",
              "    </div>\n",
              "  </div>\n",
              "  "
            ]
          },
          "metadata": {},
          "execution_count": 5
        }
      ],
      "source": [
        "df = pd.read_csv('data.txt.zip', header=None)\n",
        "df.head()"
      ]
    },
    {
      "cell_type": "code",
      "source": [
        "len(df)"
      ],
      "metadata": {
        "colab": {
          "base_uri": "https://localhost:8080/"
        },
        "id": "Ll0zL7Hlyw8C",
        "outputId": "5eb22bf0-7789-4dc5-be24-b71b6eed12ed"
      },
      "execution_count": 6,
      "outputs": [
        {
          "output_type": "execute_result",
          "data": {
            "text/plain": [
              "515345"
            ]
          },
          "metadata": {},
          "execution_count": 6
        }
      ]
    },
    {
      "cell_type": "code",
      "execution_count": 7,
      "metadata": {
        "id": "n4wnRJT1778j"
      },
      "outputs": [],
      "source": [
        "X = df.iloc[:, 1:].values\n",
        "y = df.iloc[:, 0].values\n",
        "\n",
        "train_size = 463715\n",
        "X_train = X[:train_size, :]\n",
        "y_train = y[:train_size]\n",
        "X_test = X[train_size:, :]\n",
        "y_test = y[train_size:]"
      ]
    },
    {
      "cell_type": "markdown",
      "metadata": {
        "id": "_386JE_o5gOd"
      },
      "source": [
        "## Задание 0. (0 баллов, но при невыполнении максимум за все задание &mdash; 0 баллов)\n",
        "\n",
        "Мы будем использовать RMSE как метрику качества. Для самого первого бейзлайна обучите `Ridge` регрессию из `sklearn`. Кроме того, посчитайте качество при наилучшем константном прогнозе."
      ]
    },
    {
      "cell_type": "code",
      "execution_count": 8,
      "metadata": {
        "id": "otwuisa56MLr",
        "colab": {
          "base_uri": "https://localhost:8080/"
        },
        "outputId": "7b147d69-837b-4c0d-9965-e55c72a040b9"
      },
      "outputs": [
        {
          "output_type": "stream",
          "name": "stdout",
          "text": [
            "Ridge model -  9.510160711373397\n"
          ]
        }
      ],
      "source": [
        "from sklearn.linear_model import Ridge\n",
        "from sklearn.metrics import mean_squared_error\n",
        "\n",
        "rid_liner = Ridge()\n",
        "rid_liner.fit(X_train, y_train)\n",
        "answ = rid_liner.predict(X_test)\n",
        "print(\"Ridge model - \",mean_squared_error(y_test, answ,squared = False))"
      ]
    },
    {
      "cell_type": "code",
      "source": [
        "s = [x**2 for x in y_test]\n",
        "s_opt = sum(s) **(1/2)\n",
        "\n",
        "print(\"constant model - \",mean_squared_error(y_test, answ,squared = False))"
      ],
      "metadata": {
        "colab": {
          "base_uri": "https://localhost:8080/"
        },
        "id": "amS9-f_3xuef",
        "outputId": "74058949-d869-41cb-b3b7-b28b024749dd"
      },
      "execution_count": 9,
      "outputs": [
        {
          "output_type": "stream",
          "name": "stdout",
          "text": [
            "constant model -  9.510160711373397\n"
          ]
        }
      ]
    },
    {
      "cell_type": "markdown",
      "metadata": {
        "id": "_6ilBKYt6OdD"
      },
      "source": [
        "## Задание 1. (максимум 10 баллов)\n",
        "\n",
        "Реализуйте обучение и тестирование нейронной сети для предоставленного вам набора данных. Соотношение между полученным значением метрики на тестовой выборке и баллами за задание следующее:\n",
        "\n",
        "- $\\text{RMSE} \\le 9.00 $ &mdash; 4 балла\n",
        "- $\\text{RMSE} \\le 8.90 $ &mdash; 6 баллов\n",
        "- $\\text{RMSE} \\le 8.80 $ &mdash; 8 баллов\n",
        "- $\\text{RMSE} \\le 8.75 $ &mdash; 10 баллов\n",
        "\n",
        "Есть несколько правил, которых вам нужно придерживаться:\n",
        "\n",
        "- Весь пайплайн обучения должен быть написан на PyTorch. При этом вы можете пользоваться другими библиотеками (`numpy`, `sklearn` и пр.), но только для обработки данных. То есть как угодно трансформировать данные и считать метрики с помощью этих библиотек можно, а импортировать модели из `sklearn` и выбивать с их помощью требуемое качество &mdash; нельзя. Также нельзя пользоваться библиотеками, для которых сам PyTorch является зависимостью.\n",
        "\n",
        "- Мы никак не ограничиваем ваш выбор архитектуры модели, но скорее всего вам будет достаточно полносвязной нейронной сети.\n",
        "\n",
        "- Для обучения запрещается использовать какие-либо иные данные, кроме обучающей выборки.\n",
        "\n",
        "- Ансамблирование моделей запрещено.\n",
        "\n",
        "### Полезные советы:\n",
        "\n",
        "- Очень вряд ли, что у вас с первого раза получится выбить качество на 10 баллов, поэтому пробуйте разные архитектуры, оптимизаторы и значения гиперпараметров. В идеале при запуске каждого нового эксперимента вы должны менять что-то одно, чтобы точно знать, как этот фактор влияет на качество.\n",
        "\n",
        "- Не забудьте, что для улучшения качества модели вам поможет **нормировка таргета**.\n",
        "\n",
        "- Тот факт, что мы занимаемся глубинным обучением, не означает, что стоит забывать про приемы, использующиеся в классическом машинном обучении. Так что обязательно проводите исследовательский анализ данных, отрисовывайте нужные графики и не забывайте про масштабирование и подбор гиперпараметров.\n",
        "\n",
        "- Вы наверняка столкнетесь с тем, что ваша нейронная сеть будет сильно переобучаться. Для нейросетей существуют специальные методы регуляризации, например, dropout ([статья](https://jmlr.org/papers/volume15/srivastava14a/srivastava14a.pdf)) и weight decay ([блогпост](https://towardsdatascience.com/weight-decay-l2-regularization-90a9e17713cd)). Они, разумеется, реализованы в PyTorch. Попробуйте поэкспериментировать с ними.\n",
        "\n",
        "- Если вы чего-то не знаете, не гнушайтесь гуглить. В интернете очень много полезной информации, туториалов и советов по глубинному обучению в целом и по PyTorch в частности. Но не забывайте, что за скатанный код без ссылки на источник придется ответить по всей строгости!\n",
        "\n",
        "- Если вы сразу реализуете обучение на GPU, то у вас будет больше времени на эксперименты, так как любые вычисления будут работать быстрее. Google Colab предоставляет несколько GPU-часов (обычно около 8-10) в сутки бесплатно.\n",
        "\n",
        "- Чтобы отладить код, можете обучаться на небольшой части данных или даже на одном батче. Если лосс на обучающей выборке не падает, то что-то точно идет не так!\n",
        "\n",
        "- Пользуйтесь утилитами, которые вам предоставляет PyTorch (например, Dataset и Dataloader). Их специально разработали для упрощения разработки пайплайна обучения.\n",
        "\n",
        "- Скорее всего вы захотите отслеживать прогресс обучения. Для создания прогресс-баров есть удобная библиотека `tqdm`.\n",
        "\n",
        "- Быть может, вы захотите, чтобы графики рисовались прямо во время обучения. Можете воспользоваться функцией [clear_output](http://ipython.org/ipython-doc/dev/api/generated/IPython.display.html#IPython.display.clear_output), чтобы удалять старый график и рисовать новый на его месте.\n",
        "\n",
        "**ОБЯЗАТЕЛЬНО** рисуйте графики зависимости лосса/метрики на обучающей и тестовой выборках в зависимости от времени обучения. Если обучение занимает относительно небольшое число эпох, то лучше рисовать зависимость от номера шага обучения, если же эпох больше, то рисуйте зависимость по эпохам. Если проверяющий не увидит такого графика для вашей лучшей модели, то он в праве снизить баллы за задание.\n",
        "\n",
        "**ВАЖНО!** Ваше решение должно быть воспроизводимым. Если это не так, то проверяющий имеет право снизить баллы за задание. Чтобы зафиксировать random seed, воспользуйтесь функцией из ячейки ниже.\n",
        "\n"
      ]
    },
    {
      "cell_type": "code",
      "execution_count": 10,
      "metadata": {
        "id": "VaMButDmEKKw"
      },
      "outputs": [],
      "source": [
        "def set_random_seed(seed):\n",
        "    torch.backends.cudnn.deterministic = True\n",
        "    torch.manual_seed(seed)\n",
        "    torch.cuda.manual_seed(seed)\n",
        "    np.random.seed(seed)\n",
        "    random.seed(seed)"
      ]
    },
    {
      "cell_type": "markdown",
      "metadata": {
        "id": "TZW0gMe3vT8u"
      },
      "source": [
        "Вы можете придерживаться любой адекватной струкуры кода, но мы советуем воспользоваться следующими сигнатурами функций. Лучше всего, если вы проверите ваши предсказания ассертом: так вы убережете себя от разных косяков, например, что вектор предсказаний состоит из всего одного числа. В любом случае, внимательно следите за тем, для каких тензоров вы считаете метрику RMSE. При случайном или намеренном введении в заблуждение проверяющие очень сильно разозлятся."
      ]
    },
    {
      "cell_type": "markdown",
      "source": [
        "#Analytics"
      ],
      "metadata": {
        "id": "n78mZUbGG5oZ"
      }
    },
    {
      "cell_type": "code",
      "source": [
        "data_4_analytics = pd.DataFrame(y)\n",
        "# target distribution check\n",
        "data_4_analytics.plot(kind='hist', figsize=(8,5))\n",
        "# nothing interesting\n",
        "# exp-like increasing graph. "
      ],
      "metadata": {
        "colab": {
          "base_uri": "https://localhost:8080/",
          "height": 339
        },
        "id": "WAA-n1V0SxUE",
        "outputId": "d9dd555b-f629-4535-c95c-6cf81bd354cc"
      },
      "execution_count": 11,
      "outputs": [
        {
          "output_type": "execute_result",
          "data": {
            "text/plain": [
              "<matplotlib.axes._subplots.AxesSubplot at 0x7f8e972dde90>"
            ]
          },
          "metadata": {},
          "execution_count": 11
        },
        {
          "output_type": "display_data",
          "data": {
            "text/plain": [
              "<Figure size 576x360 with 1 Axes>"
            ],
            "image/png": "[encoded data removed]"
          },
          "metadata": {
            "needs_background": "light"
          }
        }
      ]
    },
    {
      "cell_type": "code",
      "source": [
        "# no isna objcts - can not clearly say it from  description of data\n",
        "X_data = pd.DataFrame(X)\n",
        "a = [X_data[k].isnull().any() for k in X_data.keys()]\n",
        "print(any(a))\n",
        "X_data = 0"
      ],
      "metadata": {
        "colab": {
          "base_uri": "https://localhost:8080/"
        },
        "id": "7U3jUqlEWSx1",
        "outputId": "a773e597-4954-4beb-bde2-5250c6fe1587"
      },
      "execution_count": 12,
      "outputs": [
        {
          "output_type": "stream",
          "name": "stdout",
          "text": [
            "False\n"
          ]
        }
      ]
    },
    {
      "cell_type": "markdown",
      "source": [
        "#standart skaling"
      ],
      "metadata": {
        "id": "f-gYTvNrGwLe"
      }
    },
    {
      "cell_type": "code",
      "source": [
        "y_train_n = [[y] for y in  y_train]\n",
        "y_test_n = [[y] for y in  y_test]\n",
        "\n",
        "# standart skaling\n",
        "from sklearn.preprocessing import StandardScaler\n",
        "\n",
        "s_1 = StandardScaler()\n",
        "X_tr_mod = s_1.fit_transform(X_train)\n",
        "s_2 = StandardScaler()\n",
        "y_tr_mod = s_2.fit_transform(y_train_n)\n",
        "\n",
        "X_ts_mod = s_1.fit_transform(X_test)\n",
        "y_ts_mod = s_2.transform(y_test_n)"
      ],
      "metadata": {
        "id": "E9NV9qoOTdGI"
      },
      "execution_count": 13,
      "outputs": []
    },
    {
      "cell_type": "code",
      "source": [
        "# from our lesson\n",
        "class MyDataset(torch.utils.data.Dataset):\n",
        "    \"\"\"\n",
        "    Our random dataset\n",
        "    \"\"\"\n",
        "    def __init__(self, x, y):\n",
        "        self.x = x\n",
        "        self.y =torch.tensor(y, dtype=torch.float32)\n",
        "        \n",
        "    def __len__(self):\n",
        "        return len(self.x)\n",
        "    \n",
        "    def __getitem__(self, idx):\n",
        "        return {\"sample\": torch.tensor(self.x[idx, :], dtype=torch.float32), \"target\": self.y[idx]}"
      ],
      "metadata": {
        "id": "bwntwk6XW3xK"
      },
      "execution_count": 14,
      "outputs": []
    },
    {
      "cell_type": "markdown",
      "source": [
        "#Settings\n",
        "of dataloader, model, optimizer, criterion"
      ],
      "metadata": {
        "id": "UPm0lsXQF-Xd"
      }
    },
    {
      "cell_type": "code",
      "source": [
        "set_random_seed(0)\n",
        "# training constants:\n",
        "n_epochs = 200\n",
        "b_size = 16\n",
        "val_size = 100\n",
        "n_inputs = int(len(X_tr_mod[0]))\n",
        "\n",
        "sub_size = 1000 # sub set for debbug size\n",
        "\n",
        "from pandas.core.common import random_state\n",
        "\n",
        "train_set = MyDataset(X_tr_mod,y_tr_mod)\n",
        "train_loader = torch.utils.data.DataLoader(train_set,batch_size = b_size, \n",
        "                                           shuffle= True,pin_memory=False, drop_last=False)\n",
        "\n",
        "test_set = MyDataset(X_ts_mod,y_ts_mod)\n",
        "test_loader = torch.utils.data.DataLoader(test_set,batch_size = b_size, \n",
        "                                           shuffle= True,pin_memory=False, drop_last=False)\n",
        "\n",
        "val_set = MyDataset(X_ts_mod,y_test)\n",
        "val_loader = torch.utils.data.DataLoader(val_set, batch_size = b_size, \n",
        "                                           shuffle= True,pin_memory=False, drop_last=False)\n",
        "\n",
        "sub_set = MyDataset(X_tr_mod[:sub_size],y_tr_mod[:sub_size])\n",
        "sub_loader = torch.utils.data.DataLoader(sub_set,batch_size = b_size, \n",
        "                                           shuffle= True,pin_memory=False, drop_last=False)\n",
        "\n",
        "\n",
        "model = nn.Sequential(\n",
        "    nn.Linear(n_inputs, 60),\n",
        "    nn.Dropout(p=0.5),\n",
        "    nn.ReLU(),\n",
        "    nn.Linear(60, 20),\n",
        "    nn.ReLU(),\n",
        "    nn.BatchNorm1d(num_features = 20),\n",
        "    nn.Linear(20, 10),\n",
        "    nn.ReLU(),\n",
        "    nn.Linear(10, 1)\n",
        ")\n",
        "\n",
        "optimizer = torch.optim.Adam(model.parameters(),lr=0.0011, eps=1e-8 )\n",
        "criterion = nn.MSELoss()\n",
        "\n",
        "best_params ={\n",
        "    'model' : nn.Sequential(),\n",
        "    'n_epochs' : 0,\n",
        "    'b_size' : 0,\n",
        "    'count' : 0,\n",
        "    'optimizer' : torch.optim.Adam(model.parameters()),\n",
        "    'val_loss' : 1000 ,\n",
        "    'tr_loss' : 0\n",
        "}\n",
        "min_loss = 1000\n"
      ],
      "metadata": {
        "id": "xEizytDsUEID"
      },
      "execution_count": 23,
      "outputs": []
    },
    {
      "cell_type": "markdown",
      "source": [
        "##Train"
      ],
      "metadata": {
        "id": "07p3XiESHG0n"
      }
    },
    {
      "cell_type": "code",
      "execution_count": 24,
      "metadata": {
        "id": "8Wmxrf5Qveux"
      },
      "outputs": [],
      "source": [
        "def train(model, optimizer, criterion, train_loader, test_loader,n_epochs ):\n",
        "    '''\n",
        "    params:\n",
        "        model - torch.nn.Module to be fitted\n",
        "        optimizer - model optimizer\n",
        "        criterion - loss function from torch.nn\n",
        "        train_loader - torch.utils.data.Dataloader with train set\n",
        "        test_loader - torch.utils.data.Dataloader with test set\n",
        "                      (if you wish to validate during training)\n",
        "    '''\n",
        "    loss_hist_v = []\n",
        "    loss_hist_tr = []\n",
        "    val_loss = [100]\n",
        "    for epoch in range(n_epochs):\n",
        "      # train\n",
        "      count = 0\n",
        "      \n",
        "      for bat in tqdm(train_loader):\n",
        "            model.train()\n",
        "            tr_loss = []\n",
        "            y_train = bat['target']\n",
        "            x_train = bat['sample']\n",
        "\n",
        "            y_pred = model(x_train)\n",
        "            loss = torch.sqrt(criterion(y_pred, y_train))\n",
        "            loss.backward()\n",
        "\n",
        "            optimizer.step()\n",
        "            optimizer.zero_grad()\n",
        "\n",
        "            tr_loss.append(loss.detach().numpy())\n",
        "            count += 1\n",
        "            if count%(1000) == 0:\n",
        "              with torch.no_grad():\n",
        "                model.eval()\n",
        "                # predicts =  torch.Tensor( \n",
        "                #     s_2.inverse_transform(\n",
        "                #       model( \n",
        "                #         torch.Tensor(\n",
        "                #           test_loader.dataset.x\n",
        "                #           )\n",
        "                #       ).detach().numpy())\n",
        "                #     )\n",
        "                # val_loss.append(mean_squared_error(predicts, y_test, squared = False))\n",
        "                val_loss.append(mean_squared_error(test(model, criterion, test_loader), y_test, squared = False))\n",
        "\n",
        "              #  pretty graphs\n",
        "                if count%(3000) == 0:\n",
        "                  disp.clear_output(wait=True)\n",
        "                    \n",
        "                  loss_hist_v.append(val_loss[-1])\n",
        "                  plt.subplot(2,1,1)\n",
        "                  pylab.plot(loss_hist_v)\n",
        "                  plt.title (\"validation loss\")\n",
        "                  plt.xlabel(\"n*3000 sampels\", fontsize=14)\n",
        "                  plt.ylabel(\"validation score\", fontsize=14)\n",
        "\n",
        "                  loss_hist_tr.append(np.mean(tr_loss))\n",
        "                  pylab.subplot(2,1,2)       \n",
        "                  pylab.plot(loss_hist_tr)\n",
        "                  plt.title (\"train loss\")  \n",
        "                  plt.xlabel(\"n*3000 sampels\", fontsize=14)\n",
        "                  plt.ylabel(\"Train score\", fontsize=14)\n",
        "\n",
        "                  plt.tight_layout()\n",
        "                  pylab.show()\n",
        "            \n",
        "                  print(f\"\\nEpoch: {epoch}, train_loss: {np.mean(tr_loss)}, val_loss: {val_loss[-1]}, best: { best_params['val_loss']}\")\n",
        "              if val_loss[-1] <= 10 and val_loss[-1] < best_params['val_loss']:\n",
        "                print(\"It's becomming smaller!\")\n",
        "                best_params['model'] = model #not workong..\n",
        "                best_params['n_epochs'] = n_epochs\n",
        "                best_params['b_size'] = b_size\n",
        "                best_params['count'] = count\n",
        "                best_params['optimizer'] = optimizer\n",
        "                best_params['val_loss'] = val_loss[-1]\n",
        "                best_params['tr_loss'] = np.mean(tr_loss)\n",
        "                if val_loss[-1] <= 8.8:\n",
        "                   print(\"It's 8\")\n",
        "                   return \n",
        "    # raise NotImplementedError\n"
      ]
    },
    {
      "cell_type": "code",
      "source": [
        "train(model ,optimizer,criterion, train_loader, test_loader,n_epochs)\n",
        "\n",
        "preds = test(best_params['model'], criterion, test_loader)\n",
        "print(\"\\n Loss value on test - \",mean_squared_error(preds, y_test, squared = False))"
      ],
      "metadata": {
        "colab": {
          "base_uri": "https://localhost:8080/",
          "height": 431
        },
        "id": "_SLDAe0Su07p",
        "outputId": "525fd8d5-e728-4e8c-c743-e48494fbf931"
      },
      "execution_count": 25,
      "outputs": [
        {
          "output_type": "display_data",
          "data": {
            "text/plain": [
              "<Figure size 432x288 with 2 Axes>"
            ],
            "image/png": "[encoded data removed]"
          },
          "metadata": {
            "needs_background": "light"
          }
        },
        {
          "output_type": "stream",
          "name": "stderr",
          "text": [
            " 52%|█████▏    | 15059/28983 [00:34<00:53, 259.58it/s]"
          ]
        },
        {
          "output_type": "stream",
          "name": "stdout",
          "text": [
            "\n",
            "Epoch: 72, train_loss: 1.328969955444336, val_loss: 8.84551449870095, best: 8.801919267505726\n"
          ]
        },
        {
          "output_type": "stream",
          "name": "stderr",
          "text": [
            " 55%|█████▌    | 15999/28983 [00:37<00:30, 432.14it/s]"
          ]
        },
        {
          "output_type": "stream",
          "name": "stdout",
          "text": [
            "It's becomming smaller!\n",
            "It's 8\n",
            "\n",
            " Loss value on test -  8.799978159637599\n"
          ]
        },
        {
          "output_type": "stream",
          "name": "stderr",
          "text": [
            "\n"
          ]
        }
      ]
    },
    {
      "cell_type": "markdown",
      "source": [
        "##Test\n"
      ],
      "metadata": {
        "id": "a2WtHGIJHP8G"
      }
    },
    {
      "cell_type": "code",
      "source": [
        "def test(model, criterion, test_loader):\n",
        "    '''\n",
        "    params:\n",
        "        model - torch.nn.Module to be evaluated on test set\n",
        "        criterion - loss function from torch.nn\n",
        "        test_loader - torch.utils.data.Dataloader with test set\n",
        "    ----------\n",
        "    returns:\n",
        "        predicts - torch.tensor with shape (len(test_loader.dataset), ),\n",
        "                   which contains predictions for test objects\n",
        "    '''\n",
        "    model.eval()\n",
        "    with torch.no_grad():\n",
        "      predicts =  torch.Tensor( \n",
        "          s_2.inverse_transform(\n",
        "              model( \n",
        "                  torch.Tensor(\n",
        "                      test_loader.dataset.x\n",
        "                      )\n",
        "                  ).detach().numpy()\n",
        "                  )\n",
        "          )\n",
        "      \n",
        "    return predicts"
      ],
      "metadata": {
        "id": "ZE856Xxi43Wc"
      },
      "execution_count": 22,
      "outputs": []
    },
    {
      "cell_type": "code",
      "source": [
        "best_params"
      ],
      "metadata": {
        "colab": {
          "base_uri": "https://localhost:8080/"
        },
        "id": "A3gQ2Vwu6Yr-",
        "outputId": "1c26fa89-8184-4ba4-ce24-ff5cb22b4a9a"
      },
      "execution_count": 26,
      "outputs": [
        {
          "output_type": "execute_result",
          "data": {
            "text/plain": [
              "{'model': Sequential(\n",
              "   (0): Linear(in_features=90, out_features=60, bias=True)\n",
              "   (1): Dropout(p=0.5, inplace=False)\n",
              "   (2): ReLU()\n",
              "   (3): Linear(in_features=60, out_features=20, bias=True)\n",
              "   (4): ReLU()\n",
              "   (5): BatchNorm1d(20, eps=1e-05, momentum=0.1, affine=True, track_running_stats=True)\n",
              "   (6): Linear(in_features=20, out_features=10, bias=True)\n",
              "   (7): ReLU()\n",
              "   (8): Linear(in_features=10, out_features=1, bias=True)\n",
              " ), 'n_epochs': 200, 'b_size': 16, 'count': 16000, 'optimizer': Adam (\n",
              " Parameter Group 0\n",
              "     amsgrad: False\n",
              "     betas: (0.9, 0.999)\n",
              "     capturable: False\n",
              "     eps: 1e-08\n",
              "     foreach: None\n",
              "     lr: 0.0011\n",
              "     maximize: False\n",
              "     weight_decay: 0\n",
              " ), 'val_loss': 8.799978159637599, 'tr_loss': 0.45040825}"
            ]
          },
          "metadata": {},
          "execution_count": 26
        }
      ]
    },
    {
      "cell_type": "code",
      "execution_count": 27,
      "metadata": {
        "id": "4PVEXDgD6Swj",
        "colab": {
          "base_uri": "https://localhost:8080/"
        },
        "outputId": "595a367a-8455-40a7-b394-1e3f05e76236"
      },
      "outputs": [
        {
          "output_type": "stream",
          "name": "stdout",
          "text": [
            "\n",
            " Loss value on test -  8.799978159637599\n"
          ]
        }
      ],
      "source": [
        "preds = test(best_params['model'], criterion, test_loader)\n",
        "print(\"\\n Loss value on test - \",mean_squared_error(preds, y_test, squared = False))\n"
      ]
    },
    {
      "cell_type": "markdown",
      "metadata": {
        "id": "bine9EES6TIn"
      },
      "source": [
        "## Задание 2. (0 баллов, но при невыполнении максимум за все задание &mdash; 0 баллов)\n",
        "\n",
        "Напишите небольшой отчет о том, как вы добились полученного качества: какие средства использовали и какие эксперименты проводили. Подробно расскажите об архитектурах и значениях гиперпараметров, а также какие метрики на тесте они показывали. Чтобы отчет был зачтен, необходимо привести хотя бы 3 эксперимента."
      ]
    },
    {
      "cell_type": "code",
      "execution_count": null,
      "metadata": {
        "id": "bk5pEwa66UZn"
      },
      "outputs": [],
      "source": []
    },
    {
      "cell_type": "markdown",
      "source": [
        "1. Начал с baiseline в 8.9. Структура: \n",
        "\n",
        "\n",
        "    nn.Sequential(\n",
        "    nn.Linear(n_inputs, 30),\n",
        "    nn.ReLU(),\n",
        "    nn.Linear(30, 10),\n",
        "    nn.ReLU(),\n",
        "    nn.Linear(10, 1)\n",
        "    )\n",
        "\n",
        "- С оптимайзером:\n",
        "\n",
        "    torch.optim.SGD(model.parameters(), lr=0.01)\n",
        "\n",
        "- Кроме того target и признаки были отнормированны при помощи:\n",
        "\n",
        "\n",
        "    StandardScaler()\n",
        "\n",
        "- Количество эпох и разбивка бача:\n",
        "\n",
        "\n",
        "    n_epochs = 200\n",
        "    b_size = 16\n",
        "\n",
        "- гиперпарамаетры, которые я о изменении которых, я дополнительно не писал, оставались преждними.\n",
        "2. Далее добавил решил увеличить количесттво нейронов на линейных слоях и добавить dropout:\n",
        "\n",
        "\n",
        "    model = nn.Sequential(\n",
        "    nn.Linear(n_inputs, 90),\n",
        "    nn.Dropout(p=0.5),\n",
        "    nn.ReLU(),\n",
        "    nn.Linear(90, 60),\n",
        "    nn.ReLU(),\n",
        "    nn.Linear(60, 15),\n",
        "    nn.ReLU(),\n",
        "    nn.Linear(15, 1)\n",
        "    )\n",
        "\n",
        "- Оптимизатор был заменён на torch.optim.Adam() с станадартными значениями. (При попытки их поменять максимальный лосс изменялся только в худшую сторону. Подобные эксперементы проводил и с параметром p в блоке Dropout, однако сие не давало заметного прироста.)\n",
        "\n",
        "- Обучение шло очень долго и переодически наблюдались выпады (пики) значения которое превышало близьлежащие лоссы на порядки. При этом удалось достигнуть значения в 8.85.\n",
        "\n",
        "3. В Последней модели я уменьшил суммарное число нейронов и добавил батч нормировку, теперь модель имела следующую структуру:\n",
        "\n",
        "\n",
        "    model = nn.Sequential(\n",
        "    nn.Linear(n_inputs, 60),\n",
        "    nn.Dropout(p=0.5),\n",
        "    nn.ReLU(),\n",
        "    nn.Linear(60, 20),\n",
        "    nn.ReLU(),\n",
        "    nn.BatchNorm1d(num_features = 20),\n",
        "    nn.Linear(20, 10),\n",
        "    nn.ReLU(),\n",
        "    nn.Linear(10, 1)\n",
        "    )\n",
        "\n",
        "- Оптимайзер был заменён на:\n",
        "\n",
        "\n",
        "    torch.optim.Adam(model.parameters(),lr=0.0011,eps=1e-8 )\n",
        "\n",
        "(производилось несколько замеров с разными lr, только его значение в 0.0011 принесло необходимые результаты loss в 8.79)\n",
        "\n",
        "\n",
        "\n"
      ],
      "metadata": {
        "id": "URZe7VlGet3r"
      }
    },
    {
      "cell_type": "markdown",
      "source": [
        "P.S. \n",
        "Дорой проверяющий,\n",
        "  Я слишком поздно понял, что отрисовка граффиков в wandb сильно упрощает вам жизнь. В следующий раз, обязательно буду использовать. Так же как и переложение вычислений на cuda)"
      ],
      "metadata": {
        "id": "3sXoH3sVM6xT"
      }
    },
    {
      "cell_type": "code",
      "source": [],
      "metadata": {
        "id": "RCAkCcmdOG3x"
      },
      "execution_count": null,
      "outputs": []
    }
  ],
  "metadata": {
    "colab": {
      "collapsed_sections": [],
      "provenance": [],
      "toc_visible": true
    },
    "kernelspec": {
      "display_name": "Python 3",
      "language": "python",
      "name": "python3"
    },
    "language_info": {
      "codemirror_mode": {
        "name": "ipython",
        "version": 3
      },
      "file_extension": ".py",
      "mimetype": "text/x-python",
      "name": "python",
      "nbconvert_exporter": "python",
      "pygments_lexer": "ipython3",
      "version": "3.8.5"
    }
  },
  "nbformat": 4,
  "nbformat_minor": 0
}